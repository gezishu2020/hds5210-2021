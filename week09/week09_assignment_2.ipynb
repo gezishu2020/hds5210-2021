{
 "cells": [
  {
   "cell_type": "markdown",
   "metadata": {},
   "source": [
    "# Week 9 Assignment\n",
    "\n",
    "_MkKinney 6.1_\n",
    "\n",
    "The work this week has involved using Pandas to load, manipulate, and visualize data.  For this exercise, we're going to be working with some of the price transparency data from [Baptist Health Medical Center](https://www.baptist-health.com/hospital-charges-and-negotiated-rates/) in Little Rock, AR. We've chosen them because their data is relatively easy to reach with Pandas and has some interesting insights.\n",
    "\n",
    "---\n",
    "---"
   ]
  },
  {
   "cell_type": "markdown",
   "metadata": {},
   "source": [
    "### 41.1 Loading and viewing the data\n",
    "\n",
    "There are four files in the `/data` directory related to Baptist Health:\n",
    "* bhmclr_cpt.xlsx\n",
    "* bhmclr_drg.xlsx\n",
    "* bhmclr_med.xlsx\n",
    "* bhmclr_proc.xlsx\n",
    "\n",
    "All of these files have the same format, so you can load and process them all the same way, but the subsets of data in each are distinct.\n",
    "\n",
    "For this first step, we're going to load the DRG data and inspect it using Pandas.  If you download this file and open it in Excel, there will be a few things you notice:\n",
    "1. The workbook has two sheets: \"Pivot\" and \"Sheet1\" - \"Sheet1\" is the one we want\n",
    "2. \"Sheet1\" has three rows before we get to the actual table header - we'll want to skip those rows\n",
    "3. Also, I've filtered the data to just those DRGs where the cash price is less than 20,000 for demo purposes"
   ]
  },
  {
   "cell_type": "code",
   "execution_count": null,
   "metadata": {},
   "outputs": [],
   "source": [
    "import pandas as pd\n",
    "import matplotlib.pyplot as plt\n",
    "\n",
    "data = pd.read_excel('/data/bhmclr_drg.xlsx', sheet_name='Sheet1', skiprows=3)"
   ]
  },
  {
   "cell_type": "code",
   "execution_count": null,
   "metadata": {},
   "outputs": [],
   "source": [
    "data.shape"
   ]
  },
  {
   "cell_type": "code",
   "execution_count": null,
   "metadata": {},
   "outputs": [],
   "source": [
    "data.columns"
   ]
  },
  {
   "cell_type": "code",
   "execution_count": null,
   "metadata": {},
   "outputs": [],
   "source": [
    "data.head()"
   ]
  },
  {
   "cell_type": "code",
   "execution_count": null,
   "metadata": {},
   "outputs": [],
   "source": [
    "data[['IP Cash Price','IP Charge']].hist(bins=20, range=[0,40000])"
   ]
  },
  {
   "cell_type": "markdown",
   "metadata": {},
   "source": [
    "### Question:\n",
    "\n",
    "**What do you observe from the histograms above?**"
   ]
  },
  {
   "cell_type": "markdown",
   "metadata": {},
   "source": [
    "---\n",
    "\n",
    "### 41.2 Plotting a KDE instead\n",
    "\n",
    "Instead of a historgam, let's plot overlapping [KDEs](https://pandas.pydata.org/docs/reference/api/pandas.DataFrame.plot.kde.html)."
   ]
  },
  {
   "cell_type": "code",
   "execution_count": null,
   "metadata": {},
   "outputs": [],
   "source": [
    "graph = data[['IP Cash Price','IP Charge','IP Expected Reimbursement']].plot.kde()\n",
    "graph.set_xlim(0, 40000)"
   ]
  },
  {
   "cell_type": "markdown",
   "metadata": {},
   "source": [
    "### Question:\n",
    "\n",
    "If I told you what these values represent, what conclusions could you draw about the pattern?\n",
    "* IP Cash Price is the amount you would pay on your own without using insurance\n",
    "* IP Charge is the maximum amount for which the hospital says it can submit a bill to an insurance company\n",
    "* IP Expected Reimbursement is the amount that the hospital believes it is contracted to receive in payment from an insurance company"
   ]
  },
  {
   "cell_type": "markdown",
   "metadata": {},
   "source": [
    "---\n",
    "\n",
    "### 41.3 Creating a new set of series\n",
    "\n",
    "In order to understand how this data varies across different payers, we have to create new data series that are based on the payer information.  In the data, we have a column called **Payer** that holds this information.\n",
    "\n",
    "We can use the Pandas [groupby()](https://pandas.pydata.org/docs/reference/api/pandas.DataFrame.groupby.html) function to create groupings based on Payer and then plot kde based on those groupings.  When [plotting a Pandas groupby result](https://pandas.pydata.org/pandas-docs/version/0.16.2/generated/pandas.core.groupby.DataFrameGroupBy.plot.html), the options are different than plotting a dataframe."
   ]
  },
  {
   "cell_type": "code",
   "execution_count": null,
   "metadata": {},
   "outputs": [],
   "source": [
    "data['Payer'].value_counts()"
   ]
  },
  {
   "cell_type": "code",
   "execution_count": null,
   "metadata": {},
   "outputs": [],
   "source": [
    "data.groupby(['Payer'])['IP Expected Reimbursement'].count()"
   ]
  },
  {
   "cell_type": "code",
   "execution_count": null,
   "metadata": {},
   "outputs": [],
   "source": [
    "data.groupby(['Payer'])['IP Expected Reimbursement'].plot.kde(\n",
    "    xlim=(0,40000),\n",
    "    legend=True,\n",
    "    figsize=(17,8.5)\n",
    ")\n"
   ]
  },
  {
   "cell_type": "markdown",
   "metadata": {},
   "source": [
    "### Question:\n",
    "\n",
    "Remember what this KDE represents. The x-axis is the price being reimbursement for a particular service and the y-axis represents how many different records in the input fall into that price range.  So, the higher the line at any particular x value, the more records are there.\n",
    "\n",
    "If the line is higher the further left you go, that means most prices are lower.  If the peak of the line is more the the right, then the typical price is higher.\n",
    "\n",
    "* What do you observe about the patterns in reimbursement above?\n",
    "* What does that tell you about these particular plans?\n"
   ]
  },
  {
   "cell_type": "markdown",
   "metadata": {},
   "source": [
    "---\n",
    "\n",
    "### 41.4 Seeing if there's any correlation\n",
    "\n",
    "So, we know that there are cash prices and insurance paid prices.  How strongly correlated are those amounts?\n",
    "\n",
    "We can use a scatterplot with one value on the x axis and the other on the y axis to do a simple visualization of this."
   ]
  },
  {
   "cell_type": "code",
   "execution_count": null,
   "metadata": {},
   "outputs": [],
   "source": [
    "data.plot.scatter(x='IP Cash Price', y='IP Expected Reimbursement', color='DarkRed', label='Reimbursement')"
   ]
  },
  {
   "cell_type": "code",
   "execution_count": null,
   "metadata": {},
   "outputs": [],
   "source": [
    "groups = data.groupby(['Payer'])\n",
    "plt.figure(figsize=(17,11))\n",
    "\n",
    "for i, (payer, prices) in enumerate(groups):\n",
    "    ax = plt.subplot(3,3, i+1)\n",
    "    prices.plot.scatter(x='IP Cash Price',y='IP Expected Reimbursement',ax=ax)\n",
    "    ax.set_title(payer)\n",
    "    ax.set_xlim(0,20000)\n",
    "    ax.set_ylim(0,80000)\n",
    "\n",
    "plt.tight_layout()\n",
    "plt.show()"
   ]
  },
  {
   "cell_type": "markdown",
   "metadata": {},
   "source": [
    "---\n",
    "\n",
    "### 41.5 Find Something of Your Own\n",
    "\n",
    "What data are you interested in?  To earn full credit this week, you'll need to do the following:\n",
    "1. Bring in some other data that you're interested in visualizing.  You can upload the file to your project directory and work with it here.\n",
    "2. Read that data in using Pandas\n",
    "3. Produce at least two different visualizations of that data\n",
    "4. Write a paragraph that describes your observations of the trends in that data\n",
    "\n",
    "If you're struggling to find data to use, feel free to reach out to me.  I can make some recommendations on data sets with interesting trends in them.\n",
    "\n",
    "[Here is a helpful reference for plotting in Pandas.](https://pandas.pydata.org/pandas-docs/stable/user_guide/visualization.html)"
   ]
  },
  {
   "cell_type": "code",
   "execution_count": null,
   "metadata": {},
   "outputs": [],
   "source": [
    "# Your code here to load data...\n",
    "import pandas as pd\n",
    "import matplotlib.pyplot as plt\n",
    "\n",
    "data = pd.read_csv('/data/indian_liver_patient.csv')"
   ]
  },
  {
   "cell_type": "code",
   "execution_count": null,
   "metadata": {},
   "outputs": [],
   "source": [
    "# Your code here to do a first visualization...\n",
    "data.shape"
   ]
  },
  {
   "cell_type": "code",
   "execution_count": null,
   "metadata": {},
   "outputs": [],
   "source": [
    "data.columns"
   ]
  },
  {
   "cell_type": "code",
   "execution_count": null,
   "metadata": {},
   "outputs": [],
   "source": [
    "data.head()"
   ]
  },
  {
   "cell_type": "code",
   "execution_count": null,
   "metadata": {},
   "outputs": [],
   "source": [
    "data[['Total_Bilirubin','Albumin']].hist(bins=15)"
   ]
  },
  {
   "cell_type": "code",
   "execution_count": null,
   "metadata": {},
   "outputs": [],
   "source": [
    "graph = data[['Total_Bilirubin','Albumin','Total_Protiens']].plot.kde()\n",
    "graph.set_xlim(0, 30)"
   ]
  },
  {
   "cell_type": "code",
   "execution_count": null,
   "metadata": {},
   "outputs": [],
   "source": [
    "data['Gender'].value_counts()"
   ]
  },
  {
   "cell_type": "code",
   "execution_count": null,
   "metadata": {},
   "outputs": [],
   "source": [
    "data.groupby(['Gender'])['Total_Protiens'].count()"
   ]
  },
  {
   "cell_type": "code",
   "execution_count": null,
   "metadata": {},
   "outputs": [],
   "source": [
    "data.groupby(['Gender'])['Total_Protiens'].plot.kde(\n",
    "    xlim=(0,10),\n",
    "    legend=True,\n",
    "    figsize=(15,7)\n",
    ")"
   ]
  },
  {
   "cell_type": "markdown",
   "metadata": {},
   "source": [
    "### Observations #1\n",
    "\n",
    "# total bilirubin data is skewed to the left and albumin data is normally distributed\n",
    "# the average albumin is around 2.5 while the average total protien is around 7.5\n",
    "# Average total protien is little higher for male than female this may be because of we have much more male in the data than female"
   ]
  },
  {
   "cell_type": "code",
   "execution_count": null,
   "metadata": {},
   "outputs": [],
   "source": [
    "# More code here to do a second visualization...\n",
    "data.plot.scatter(x='Total_Bilirubin', y='Total_Protiens', color='DarkRed', label='Protiens')"
   ]
  },
  {
   "cell_type": "code",
   "execution_count": null,
   "metadata": {},
   "outputs": [],
   "source": [
    "groups = data.groupby(['Gender'])\n",
    "plt.figure(figsize=(17,11))\n",
    "data.plot.scatter(x='Total_Bilirubin',y='Gender',color='blue')\n",
    "\n"
   ]
  },
  {
   "cell_type": "markdown",
   "metadata": {},
   "source": [
    "### Observations #2\n",
    "# Even if there are some outliers majority of the total bilirubin data is concentrated around one\n",
    "# Male liver patients have high total bilirubin when compared to female liver patients\n"
   ]
  },
  {
   "cell_type": "code",
   "execution_count": null,
   "metadata": {},
   "outputs": [],
   "source": []
  },
  {
   "cell_type": "markdown",
   "metadata": {},
   "source": [
    "---\n",
    "\n",
    "## Submitting Your Work\n",
    "\n",
    "In order to submit your work, you'll need to use the `git` command line program to **add** your homework file (this file) to your local repository, **commit** your changes to your local repository, and then **push** those changes up to github.com.  From there, I'll be able to **pull** the changes down and do my grading.  I'll provide some feedback, **commit** and **push** my comments back to you.  Next week, I'll show you how to **pull** down my comments.\n",
    "\n",
    "To run through everything one last time and submit your work:\n",
    "1. Use the `Kernel` -> `Restart Kernel and Run All Cells` menu option to run everything from top to bottom and stop here.\n",
    "2. Save this note with Ctrl-S (or Cmd-S)\n",
    "2. Skip down to the last command cell (the one starting with `%%bash`) and run that cell.\n",
    "\n",
    "If anything fails along the way with this submission part of the process, let me know.  I'll help you troubleshoort."
   ]
  },
  {
   "cell_type": "code",
   "execution_count": null,
   "metadata": {},
   "outputs": [],
   "source": [
    "assert False, \"DO NOT REMOVE THIS LINE\""
   ]
  },
  {
   "cell_type": "markdown",
   "metadata": {},
   "source": [
    "---"
   ]
  },
  {
   "cell_type": "code",
   "execution_count": null,
   "metadata": {},
   "outputs": [],
   "source": [
    "%%bash\n",
    "git pull\n",
    "git add week09_assignment_2.ipynb\n",
    "git commit -a -m \"Submitting the week 9 programming assignment\"\n",
    "git push"
   ]
  },
  {
   "cell_type": "markdown",
   "metadata": {},
   "source": [
    "\n",
    "---\n",
    "\n",
    "If the message above says something like _Submitting the week 8 programming assignment_ or _Everything is up to date_, then your work was submitted correctly."
   ]
  },
  {
   "cell_type": "code",
   "execution_count": null,
   "metadata": {},
   "outputs": [],
   "source": []
  }
 ],
 "metadata": {
  "kernelspec": {
   "display_name": "Python 3",
   "language": "python",
   "name": "python3"
  },
  "language_info": {
   "codemirror_mode": {
    "name": "ipython",
    "version": 3
   },
   "file_extension": ".py",
   "mimetype": "text/x-python",
   "name": "python",
   "nbconvert_exporter": "python",
   "pygments_lexer": "ipython3",
   "version": "3.6.7"
  }
 },
 "nbformat": 4,
 "nbformat_minor": 4
}
